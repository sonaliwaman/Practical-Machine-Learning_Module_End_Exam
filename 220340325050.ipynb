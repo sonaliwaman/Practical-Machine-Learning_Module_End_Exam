{
 "cells": [
  {
   "cell_type": "code",
   "execution_count": 3,
   "id": "fbd0d826",
   "metadata": {},
   "outputs": [],
   "source": [
    "import numpy as np\n",
    "import pandas as pd\n",
    "import matplotlib.pyplot as plt"
   ]
  },
  {
   "cell_type": "markdown",
   "id": "6b34c74a",
   "metadata": {},
   "source": [
    "# Import dataset"
   ]
  },
  {
   "cell_type": "code",
   "execution_count": 4,
   "id": "0fc92cba",
   "metadata": {},
   "outputs": [],
   "source": [
    "dataset=pd.read_csv(\"data.csv\")"
   ]
  },
  {
   "cell_type": "code",
   "execution_count": 5,
   "id": "9b30e43f",
   "metadata": {},
   "outputs": [
    {
     "data": {
      "text/html": [
       "<div>\n",
       "<style scoped>\n",
       "    .dataframe tbody tr th:only-of-type {\n",
       "        vertical-align: middle;\n",
       "    }\n",
       "\n",
       "    .dataframe tbody tr th {\n",
       "        vertical-align: top;\n",
       "    }\n",
       "\n",
       "    .dataframe thead th {\n",
       "        text-align: right;\n",
       "    }\n",
       "</style>\n",
       "<table border=\"1\" class=\"dataframe\">\n",
       "  <thead>\n",
       "    <tr style=\"text-align: right;\">\n",
       "      <th></th>\n",
       "      <th>F</th>\n",
       "      <th>N</th>\n",
       "      <th>Prprice per square foot</th>\n",
       "    </tr>\n",
       "  </thead>\n",
       "  <tbody>\n",
       "    <tr>\n",
       "      <th>0</th>\n",
       "      <td>0.44</td>\n",
       "      <td>0.68</td>\n",
       "      <td>511.14</td>\n",
       "    </tr>\n",
       "    <tr>\n",
       "      <th>1</th>\n",
       "      <td>0.99</td>\n",
       "      <td>0.23</td>\n",
       "      <td>717.10</td>\n",
       "    </tr>\n",
       "    <tr>\n",
       "      <th>2</th>\n",
       "      <td>0.84</td>\n",
       "      <td>0.29</td>\n",
       "      <td>607.91</td>\n",
       "    </tr>\n",
       "    <tr>\n",
       "      <th>3</th>\n",
       "      <td>0.28</td>\n",
       "      <td>0.45</td>\n",
       "      <td>270.40</td>\n",
       "    </tr>\n",
       "    <tr>\n",
       "      <th>4</th>\n",
       "      <td>0.07</td>\n",
       "      <td>0.83</td>\n",
       "      <td>289.88</td>\n",
       "    </tr>\n",
       "  </tbody>\n",
       "</table>\n",
       "</div>"
      ],
      "text/plain": [
       "      F     N  Prprice per square foot\n",
       "0  0.44  0.68                   511.14\n",
       "1  0.99  0.23                   717.10\n",
       "2  0.84  0.29                   607.91\n",
       "3  0.28  0.45                   270.40\n",
       "4  0.07  0.83                   289.88"
      ]
     },
     "execution_count": 5,
     "metadata": {},
     "output_type": "execute_result"
    }
   ],
   "source": [
    "dataset.head()"
   ]
  },
  {
   "cell_type": "code",
   "execution_count": 6,
   "id": "9d881c95",
   "metadata": {},
   "outputs": [
    {
     "data": {
      "text/plain": [
       "(100, 3)"
      ]
     },
     "execution_count": 6,
     "metadata": {},
     "output_type": "execute_result"
    }
   ],
   "source": [
    "#check shape\n",
    "dataset.shape"
   ]
  },
  {
   "cell_type": "markdown",
   "id": "dfa24243",
   "metadata": {},
   "source": []
  },
  {
   "cell_type": "code",
   "execution_count": null,
   "id": "a20d1577",
   "metadata": {},
   "outputs": [],
   "source": [
    "  "
   ]
  },
  {
   "cell_type": "code",
   "execution_count": null,
   "id": "661c6dc1",
   "metadata": {},
   "outputs": [],
   "source": []
  },
  {
   "cell_type": "code",
   "execution_count": null,
   "id": "1660977a",
   "metadata": {},
   "outputs": [],
   "source": []
  },
  {
   "cell_type": "code",
   "execution_count": 137,
   "id": "3b90fe7d",
   "metadata": {},
   "outputs": [
    {
     "data": {
      "text/html": [
       "<div>\n",
       "<style scoped>\n",
       "    .dataframe tbody tr th:only-of-type {\n",
       "        vertical-align: middle;\n",
       "    }\n",
       "\n",
       "    .dataframe tbody tr th {\n",
       "        vertical-align: top;\n",
       "    }\n",
       "\n",
       "    .dataframe thead th {\n",
       "        text-align: right;\n",
       "    }\n",
       "</style>\n",
       "<table border=\"1\" class=\"dataframe\">\n",
       "  <thead>\n",
       "    <tr style=\"text-align: right;\">\n",
       "      <th></th>\n",
       "      <th>F</th>\n",
       "      <th>N</th>\n",
       "      <th>Prprice per square foot</th>\n",
       "    </tr>\n",
       "  </thead>\n",
       "  <tbody>\n",
       "    <tr>\n",
       "      <th>count</th>\n",
       "      <td>100.000000</td>\n",
       "      <td>100.000000</td>\n",
       "      <td>100.000000</td>\n",
       "    </tr>\n",
       "    <tr>\n",
       "      <th>mean</th>\n",
       "      <td>0.550300</td>\n",
       "      <td>0.501700</td>\n",
       "      <td>554.214600</td>\n",
       "    </tr>\n",
       "    <tr>\n",
       "      <th>std</th>\n",
       "      <td>0.293841</td>\n",
       "      <td>0.307124</td>\n",
       "      <td>347.312796</td>\n",
       "    </tr>\n",
       "    <tr>\n",
       "      <th>min</th>\n",
       "      <td>0.010000</td>\n",
       "      <td>0.000000</td>\n",
       "      <td>42.080000</td>\n",
       "    </tr>\n",
       "    <tr>\n",
       "      <th>25%</th>\n",
       "      <td>0.300000</td>\n",
       "      <td>0.230000</td>\n",
       "      <td>278.172500</td>\n",
       "    </tr>\n",
       "    <tr>\n",
       "      <th>50%</th>\n",
       "      <td>0.570000</td>\n",
       "      <td>0.485000</td>\n",
       "      <td>514.285000</td>\n",
       "    </tr>\n",
       "    <tr>\n",
       "      <th>75%</th>\n",
       "      <td>0.822500</td>\n",
       "      <td>0.760000</td>\n",
       "      <td>751.752500</td>\n",
       "    </tr>\n",
       "    <tr>\n",
       "      <th>max</th>\n",
       "      <td>1.000000</td>\n",
       "      <td>0.990000</td>\n",
       "      <td>1563.820000</td>\n",
       "    </tr>\n",
       "  </tbody>\n",
       "</table>\n",
       "</div>"
      ],
      "text/plain": [
       "                F           N  Prprice per square foot\n",
       "count  100.000000  100.000000               100.000000\n",
       "mean     0.550300    0.501700               554.214600\n",
       "std      0.293841    0.307124               347.312796\n",
       "min      0.010000    0.000000                42.080000\n",
       "25%      0.300000    0.230000               278.172500\n",
       "50%      0.570000    0.485000               514.285000\n",
       "75%      0.822500    0.760000               751.752500\n",
       "max      1.000000    0.990000              1563.820000"
      ]
     },
     "execution_count": 137,
     "metadata": {},
     "output_type": "execute_result"
    }
   ],
   "source": [
    "dataset.describe() #min value is .01 and max value 1"
   ]
  },
  {
   "cell_type": "markdown",
   "id": "8f6a2bac",
   "metadata": {},
   "source": [
    "# Spliting data of dependent and independent variable"
   ]
  },
  {
   "cell_type": "code",
   "execution_count": 138,
   "id": "ff078029",
   "metadata": {},
   "outputs": [],
   "source": [
    "X=dataset.iloc[:,:-1].values  #dependent variable\n",
    "y=dataset.iloc[:,-1].values  #indepdent variable"
   ]
  },
  {
   "cell_type": "code",
   "execution_count": 139,
   "id": "2216ae0e",
   "metadata": {},
   "outputs": [
    {
     "data": {
      "text/plain": [
       "array([[0.44, 0.68],\n",
       "       [0.99, 0.23],\n",
       "       [0.84, 0.29],\n",
       "       [0.28, 0.45],\n",
       "       [0.07, 0.83],\n",
       "       [0.66, 0.8 ],\n",
       "       [0.73, 0.92],\n",
       "       [0.57, 0.43],\n",
       "       [0.43, 0.89],\n",
       "       [0.27, 0.95],\n",
       "       [0.43, 0.06],\n",
       "       [0.87, 0.91],\n",
       "       [0.78, 0.69],\n",
       "       [0.9 , 0.94],\n",
       "       [0.41, 0.06],\n",
       "       [0.52, 0.17],\n",
       "       [0.47, 0.66],\n",
       "       [0.65, 0.43],\n",
       "       [0.85, 0.64],\n",
       "       [0.93, 0.44],\n",
       "       [0.41, 0.93],\n",
       "       [0.36, 0.43],\n",
       "       [0.78, 0.85],\n",
       "       [0.69, 0.07],\n",
       "       [0.04, 0.52],\n",
       "       [0.17, 0.15],\n",
       "       [0.68, 0.13],\n",
       "       [0.84, 0.6 ],\n",
       "       [0.38, 0.4 ],\n",
       "       [0.12, 0.65],\n",
       "       [0.62, 0.17],\n",
       "       [0.79, 0.97],\n",
       "       [0.82, 0.04],\n",
       "       [0.91, 0.53],\n",
       "       [0.35, 0.85],\n",
       "       [0.57, 0.69],\n",
       "       [0.52, 0.22],\n",
       "       [0.31, 0.15],\n",
       "       [0.6 , 0.02],\n",
       "       [0.99, 0.91],\n",
       "       [0.48, 0.76],\n",
       "       [0.3 , 0.19],\n",
       "       [0.58, 0.62],\n",
       "       [0.65, 0.17],\n",
       "       [0.6 , 0.69],\n",
       "       [0.95, 0.76],\n",
       "       [0.47, 0.23],\n",
       "       [0.15, 0.96],\n",
       "       [0.01, 0.03],\n",
       "       [0.26, 0.23],\n",
       "       [0.01, 0.11],\n",
       "       [0.45, 0.87],\n",
       "       [0.09, 0.97],\n",
       "       [0.96, 0.25],\n",
       "       [0.63, 0.58],\n",
       "       [0.06, 0.42],\n",
       "       [0.1 , 0.24],\n",
       "       [0.26, 0.62],\n",
       "       [0.41, 0.15],\n",
       "       [0.91, 0.95],\n",
       "       [0.83, 0.64],\n",
       "       [0.44, 0.64],\n",
       "       [0.2 , 0.4 ],\n",
       "       [0.43, 0.12],\n",
       "       [0.21, 0.22],\n",
       "       [0.88, 0.4 ],\n",
       "       [0.31, 0.87],\n",
       "       [0.99, 0.99],\n",
       "       [0.23, 0.26],\n",
       "       [0.79, 0.12],\n",
       "       [0.02, 0.28],\n",
       "       [0.89, 0.48],\n",
       "       [0.02, 0.56],\n",
       "       [0.92, 0.03],\n",
       "       [0.72, 0.34],\n",
       "       [0.3 , 0.99],\n",
       "       [0.86, 0.66],\n",
       "       [0.47, 0.65],\n",
       "       [0.79, 0.94],\n",
       "       [0.82, 0.96],\n",
       "       [0.9 , 0.42],\n",
       "       [0.19, 0.62],\n",
       "       [0.7 , 0.57],\n",
       "       [0.7 , 0.61],\n",
       "       [0.69, 0.  ],\n",
       "       [0.98, 0.3 ],\n",
       "       [0.3 , 0.08],\n",
       "       [0.85, 0.49],\n",
       "       [0.73, 0.01],\n",
       "       [1.  , 0.23],\n",
       "       [0.42, 0.94],\n",
       "       [0.49, 0.98],\n",
       "       [0.89, 0.68],\n",
       "       [0.22, 0.46],\n",
       "       [0.34, 0.5 ],\n",
       "       [0.99, 0.13],\n",
       "       [0.28, 0.46],\n",
       "       [0.87, 0.36],\n",
       "       [0.23, 0.87],\n",
       "       [0.77, 0.36]])"
      ]
     },
     "execution_count": 139,
     "metadata": {},
     "output_type": "execute_result"
    }
   ],
   "source": [
    "X"
   ]
  },
  {
   "cell_type": "code",
   "execution_count": 140,
   "id": "4115922b",
   "metadata": {},
   "outputs": [
    {
     "data": {
      "text/plain": [
       "array([ 511.14,  717.1 ,  607.91,  270.4 ,  289.88,  830.85, 1038.09,\n",
       "        455.19,  640.17,  511.06,  177.03, 1242.52,  891.37, 1339.72,\n",
       "        169.88,  276.05,  517.43,  522.25,  932.21,  851.25,  640.11,\n",
       "        308.68, 1046.05,  332.4 ,  171.85,  109.55,  361.97,  872.21,\n",
       "        303.7 ,  256.38,  341.2 , 1194.63,  408.6 ,  895.54,  518.25,\n",
       "        638.75,  301.9 ,  163.38,  240.77, 1449.05,  609.  ,  174.59,\n",
       "        593.45,  355.96,  671.46, 1193.7 ,  278.88,  411.4 ,   42.08,\n",
       "        166.19,   58.62,  642.45,  368.14,  702.78,  615.74,  143.79,\n",
       "        109.  ,  328.28,  205.16, 1360.49,  905.83,  487.33,  202.76,\n",
       "        202.01,  148.87,  745.3 ,  503.04, 1563.82,  165.21,  438.4 ,\n",
       "         98.47,  819.63,  174.44,  483.13,  534.24,  572.31,  957.61,\n",
       "        518.29, 1143.49, 1211.31,  784.74,  283.7 ,  684.38,  719.46,\n",
       "        292.23,  775.68,  130.77,  801.6 ,  323.55,  726.9 ,  661.12,\n",
       "        771.11, 1016.14,  237.69,  325.89,  636.22,  272.12,  696.65,\n",
       "        434.53,  593.86])"
      ]
     },
     "execution_count": 140,
     "metadata": {},
     "output_type": "execute_result"
    }
   ],
   "source": [
    "y"
   ]
  },
  {
   "cell_type": "code",
   "execution_count": 141,
   "id": "2c52cb4d",
   "metadata": {},
   "outputs": [
    {
     "data": {
      "text/plain": [
       "array([[0.45, 0.87],\n",
       "       [0.84, 0.6 ],\n",
       "       [0.85, 0.64],\n",
       "       [0.1 , 0.24],\n",
       "       [0.43, 0.12],\n",
       "       [0.72, 0.34],\n",
       "       [0.99, 0.23],\n",
       "       [0.44, 0.64],\n",
       "       [0.58, 0.62],\n",
       "       [0.3 , 0.19],\n",
       "       [0.07, 0.83],\n",
       "       [0.52, 0.17],\n",
       "       [0.65, 0.43],\n",
       "       [0.48, 0.76],\n",
       "       [0.6 , 0.02],\n",
       "       [0.66, 0.8 ],\n",
       "       [0.49, 0.98],\n",
       "       [0.91, 0.95],\n",
       "       [0.44, 0.68],\n",
       "       [0.35, 0.85],\n",
       "       [0.38, 0.4 ],\n",
       "       [0.01, 0.11],\n",
       "       [0.87, 0.91],\n",
       "       [0.57, 0.69],\n",
       "       [0.69, 0.07],\n",
       "       [0.09, 0.97],\n",
       "       [0.43, 0.06],\n",
       "       [0.79, 0.97],\n",
       "       [0.31, 0.87],\n",
       "       [0.26, 0.62],\n",
       "       [0.82, 0.96],\n",
       "       [0.98, 0.3 ],\n",
       "       [0.82, 0.04],\n",
       "       [0.69, 0.  ],\n",
       "       [0.41, 0.06],\n",
       "       [1.  , 0.23],\n",
       "       [0.93, 0.44],\n",
       "       [0.12, 0.65],\n",
       "       [0.26, 0.23],\n",
       "       [0.87, 0.36],\n",
       "       [0.23, 0.87],\n",
       "       [0.79, 0.12],\n",
       "       [0.41, 0.93],\n",
       "       [0.34, 0.5 ],\n",
       "       [0.02, 0.56],\n",
       "       [0.47, 0.65],\n",
       "       [0.17, 0.15],\n",
       "       [0.31, 0.15],\n",
       "       [0.19, 0.62],\n",
       "       [0.47, 0.23],\n",
       "       [0.99, 0.91],\n",
       "       [0.88, 0.4 ],\n",
       "       [0.41, 0.15],\n",
       "       [0.78, 0.69],\n",
       "       [0.73, 0.01],\n",
       "       [0.02, 0.28],\n",
       "       [0.85, 0.49],\n",
       "       [0.52, 0.22],\n",
       "       [0.36, 0.43],\n",
       "       [0.7 , 0.61],\n",
       "       [0.27, 0.95],\n",
       "       [0.28, 0.46],\n",
       "       [0.99, 0.99],\n",
       "       [0.21, 0.22],\n",
       "       [0.15, 0.96],\n",
       "       [0.6 , 0.69]])"
      ]
     },
     "execution_count": 141,
     "metadata": {},
     "output_type": "execute_result"
    }
   ],
   "source": [
    "from sklearn.model_selection import train_test_split\n",
    "X_train, X_test, y_train,y_test =train_test_split(X,y,test_size=1/3, random_state=0)\n",
    "X_train"
   ]
  },
  {
   "cell_type": "markdown",
   "id": "9eca1de4",
   "metadata": {},
   "source": [
    "# Built Model"
   ]
  },
  {
   "cell_type": "code",
   "execution_count": 142,
   "id": "230bdaf7",
   "metadata": {},
   "outputs": [
    {
     "data": {
      "text/plain": [
       "LinearRegression()"
      ]
     },
     "execution_count": 142,
     "metadata": {},
     "output_type": "execute_result"
    }
   ],
   "source": [
    "from sklearn.linear_model import LinearRegression\n",
    "la=LinearRegression()\n",
    "la.fit(X_train,y_train)"
   ]
  },
  {
   "cell_type": "markdown",
   "id": "17510ac3",
   "metadata": {},
   "source": [
    "# Prediction"
   ]
  },
  {
   "cell_type": "code",
   "execution_count": 143,
   "id": "627f5b4b",
   "metadata": {},
   "outputs": [
    {
     "data": {
      "text/plain": [
       "array([ 421.58483087,   44.72874089,  673.13051876,   55.06976322,\n",
       "        652.9532138 ,  226.41002611,  586.03123635,  571.65465854,\n",
       "        677.16607424,  701.75725324,  754.84921801,  978.98725039,\n",
       "       1062.38747046, 1161.8034913 ,  522.68237253,  394.09305208,\n",
       "        993.19558163,  103.83197723,  896.80610929,  703.60702063,\n",
       "        421.20651231,  168.23167345,  273.95316115,  845.31154206,\n",
       "       1086.68445418, -250.78696841,  994.79297917,  656.65227614,\n",
       "        733.74702936,  938.50621933,  898.02518826,  814.24664963,\n",
       "        727.98812763,  101.77213785])"
      ]
     },
     "execution_count": 143,
     "metadata": {},
     "output_type": "execute_result"
    }
   ],
   "source": [
    "\n",
    "y_pred=la.predict(X_test)\n",
    "y_pred"
   ]
  },
  {
   "cell_type": "code",
   "execution_count": 144,
   "id": "d52ffe0e",
   "metadata": {},
   "outputs": [
    {
     "data": {
      "text/plain": [
       "array([[0.68, 0.13],\n",
       "       [0.3 , 0.08],\n",
       "       [0.84, 0.29]])"
      ]
     },
     "execution_count": 144,
     "metadata": {},
     "output_type": "execute_result"
    }
   ],
   "source": [
    "X_test[:3]"
   ]
  },
  {
   "cell_type": "code",
   "execution_count": 145,
   "id": "67564e0c",
   "metadata": {},
   "outputs": [
    {
     "data": {
      "text/plain": [
       "array([361.97, 130.77, 607.91])"
      ]
     },
     "execution_count": 145,
     "metadata": {},
     "output_type": "execute_result"
    }
   ],
   "source": [
    "y_test[:3]"
   ]
  },
  {
   "cell_type": "code",
   "execution_count": 146,
   "id": "f61bd297",
   "metadata": {},
   "outputs": [
    {
     "data": {
      "text/plain": [
       "array([421.58483087])"
      ]
     },
     "execution_count": 146,
     "metadata": {},
     "output_type": "execute_result"
    }
   ],
   "source": [
    "la.predict([[0.68,0.13]])"
   ]
  },
  {
   "cell_type": "code",
   "execution_count": null,
   "id": "8c59becb",
   "metadata": {},
   "outputs": [],
   "source": []
  },
  {
   "cell_type": "markdown",
   "id": "cb473545",
   "metadata": {},
   "source": [
    "# Conclusion:"
   ]
  },
  {
   "cell_type": "code",
   "execution_count": null,
   "id": "1937bf91",
   "metadata": {},
   "outputs": [],
   "source": [
    "Hence test value of F=0.68 and N=0.13 is 361.97 and predicted by 421."
   ]
  },
  {
   "cell_type": "markdown",
   "id": "1c7f81ef",
   "metadata": {},
   "source": [
    "# Problem Statement 2:\n"
   ]
  },
  {
   "cell_type": "code",
   "execution_count": null,
   "id": "fa852e4a",
   "metadata": {},
   "outputs": [],
   "source": [
    "#A dataset collected in a cosmetics shop showing details of customers and whether or not they responded to a special offer to buy a new lipstick is shown in the table below. Use this dataset to build a decision tree, with Buys as the target variable, to help in buying lip-sticks in the future. Find the root node of the decision tree. According to the decision tree, you have made from the previous Training data set, what is the decision for the test data: [Age < 21, Income = Low, Gender = Female, Marital Status = Married]? Write the concluding statement for the implemented application."
   ]
  },
  {
   "cell_type": "markdown",
   "id": "434f4174",
   "metadata": {},
   "source": [
    "# Import liabraries"
   ]
  },
  {
   "cell_type": "code",
   "execution_count": 22,
   "id": "e0cd088c",
   "metadata": {},
   "outputs": [],
   "source": [
    "import numpy as np\n",
    "import pandas as pd\n",
    "import matplotlib.pyplot as plt\n",
    "import seaborn as sns"
   ]
  },
  {
   "cell_type": "markdown",
   "id": "7b26eb40",
   "metadata": {},
   "source": [
    "# Import dataset"
   ]
  },
  {
   "cell_type": "code",
   "execution_count": 97,
   "id": "d7c60c8b",
   "metadata": {},
   "outputs": [],
   "source": [
    "data=pd.read_csv(\"customers .csv\")"
   ]
  },
  {
   "cell_type": "code",
   "execution_count": 98,
   "id": "deecabb9",
   "metadata": {},
   "outputs": [
    {
     "data": {
      "text/html": [
       "<div>\n",
       "<style scoped>\n",
       "    .dataframe tbody tr th:only-of-type {\n",
       "        vertical-align: middle;\n",
       "    }\n",
       "\n",
       "    .dataframe tbody tr th {\n",
       "        vertical-align: top;\n",
       "    }\n",
       "\n",
       "    .dataframe thead th {\n",
       "        text-align: right;\n",
       "    }\n",
       "</style>\n",
       "<table border=\"1\" class=\"dataframe\">\n",
       "  <thead>\n",
       "    <tr style=\"text-align: right;\">\n",
       "      <th></th>\n",
       "      <th>ID</th>\n",
       "      <th>Age</th>\n",
       "      <th>Income</th>\n",
       "      <th>Gender</th>\n",
       "      <th>Marital Status</th>\n",
       "      <th>Buys</th>\n",
       "    </tr>\n",
       "  </thead>\n",
       "  <tbody>\n",
       "    <tr>\n",
       "      <th>0</th>\n",
       "      <td>1</td>\n",
       "      <td>&lt;21</td>\n",
       "      <td>High</td>\n",
       "      <td>Male</td>\n",
       "      <td>Single</td>\n",
       "      <td>No</td>\n",
       "    </tr>\n",
       "    <tr>\n",
       "      <th>1</th>\n",
       "      <td>2</td>\n",
       "      <td>&lt;21</td>\n",
       "      <td>High</td>\n",
       "      <td>Male</td>\n",
       "      <td>Married</td>\n",
       "      <td>No</td>\n",
       "    </tr>\n",
       "    <tr>\n",
       "      <th>2</th>\n",
       "      <td>3</td>\n",
       "      <td>21-35</td>\n",
       "      <td>High</td>\n",
       "      <td>Male</td>\n",
       "      <td>Single</td>\n",
       "      <td>Yes</td>\n",
       "    </tr>\n",
       "    <tr>\n",
       "      <th>3</th>\n",
       "      <td>4</td>\n",
       "      <td>&gt;35</td>\n",
       "      <td>Medium</td>\n",
       "      <td>Male</td>\n",
       "      <td>Single</td>\n",
       "      <td>Yes</td>\n",
       "    </tr>\n",
       "    <tr>\n",
       "      <th>4</th>\n",
       "      <td>5</td>\n",
       "      <td>&gt;35</td>\n",
       "      <td>Low</td>\n",
       "      <td>Female</td>\n",
       "      <td>Single</td>\n",
       "      <td>Yes</td>\n",
       "    </tr>\n",
       "  </tbody>\n",
       "</table>\n",
       "</div>"
      ],
      "text/plain": [
       "   ID    Age  Income  Gender Marital Status Buys\n",
       "0   1    <21    High    Male         Single   No\n",
       "1   2    <21    High    Male        Married   No\n",
       "2   3  21-35    High    Male         Single  Yes\n",
       "3   4    >35  Medium    Male         Single  Yes\n",
       "4   5    >35     Low  Female         Single  Yes"
      ]
     },
     "execution_count": 98,
     "metadata": {},
     "output_type": "execute_result"
    }
   ],
   "source": [
    "data.head()"
   ]
  },
  {
   "cell_type": "code",
   "execution_count": 99,
   "id": "00e78cf6",
   "metadata": {},
   "outputs": [
    {
     "name": "stdout",
     "output_type": "stream",
     "text": [
      "<class 'pandas.core.frame.DataFrame'>\n",
      "RangeIndex: 14 entries, 0 to 13\n",
      "Data columns (total 6 columns):\n",
      " #   Column          Non-Null Count  Dtype \n",
      "---  ------          --------------  ----- \n",
      " 0   ID              14 non-null     int64 \n",
      " 1   Age             14 non-null     object\n",
      " 2   Income          14 non-null     object\n",
      " 3   Gender          14 non-null     object\n",
      " 4   Marital Status  14 non-null     object\n",
      " 5   Buys            14 non-null     object\n",
      "dtypes: int64(1), object(5)\n",
      "memory usage: 800.0+ bytes\n"
     ]
    }
   ],
   "source": [
    "data.info()                     #to show info about data"
   ]
  },
  {
   "cell_type": "code",
   "execution_count": 100,
   "id": "a9549927",
   "metadata": {},
   "outputs": [
    {
     "data": {
      "text/html": [
       "<div>\n",
       "<style scoped>\n",
       "    .dataframe tbody tr th:only-of-type {\n",
       "        vertical-align: middle;\n",
       "    }\n",
       "\n",
       "    .dataframe tbody tr th {\n",
       "        vertical-align: top;\n",
       "    }\n",
       "\n",
       "    .dataframe thead th {\n",
       "        text-align: right;\n",
       "    }\n",
       "</style>\n",
       "<table border=\"1\" class=\"dataframe\">\n",
       "  <thead>\n",
       "    <tr style=\"text-align: right;\">\n",
       "      <th></th>\n",
       "      <th>Age</th>\n",
       "      <th>Income</th>\n",
       "      <th>Gender</th>\n",
       "      <th>Marital Status</th>\n",
       "      <th>Buys</th>\n",
       "    </tr>\n",
       "  </thead>\n",
       "  <tbody>\n",
       "    <tr>\n",
       "      <th>0</th>\n",
       "      <td>&lt;21</td>\n",
       "      <td>High</td>\n",
       "      <td>Male</td>\n",
       "      <td>Single</td>\n",
       "      <td>No</td>\n",
       "    </tr>\n",
       "    <tr>\n",
       "      <th>1</th>\n",
       "      <td>&lt;21</td>\n",
       "      <td>High</td>\n",
       "      <td>Male</td>\n",
       "      <td>Married</td>\n",
       "      <td>No</td>\n",
       "    </tr>\n",
       "    <tr>\n",
       "      <th>2</th>\n",
       "      <td>21-35</td>\n",
       "      <td>High</td>\n",
       "      <td>Male</td>\n",
       "      <td>Single</td>\n",
       "      <td>Yes</td>\n",
       "    </tr>\n",
       "    <tr>\n",
       "      <th>3</th>\n",
       "      <td>&gt;35</td>\n",
       "      <td>Medium</td>\n",
       "      <td>Male</td>\n",
       "      <td>Single</td>\n",
       "      <td>Yes</td>\n",
       "    </tr>\n",
       "    <tr>\n",
       "      <th>4</th>\n",
       "      <td>&gt;35</td>\n",
       "      <td>Low</td>\n",
       "      <td>Female</td>\n",
       "      <td>Single</td>\n",
       "      <td>Yes</td>\n",
       "    </tr>\n",
       "  </tbody>\n",
       "</table>\n",
       "</div>"
      ],
      "text/plain": [
       "     Age  Income  Gender Marital Status Buys\n",
       "0    <21    High    Male         Single   No\n",
       "1    <21    High    Male        Married   No\n",
       "2  21-35    High    Male         Single  Yes\n",
       "3    >35  Medium    Male         Single  Yes\n",
       "4    >35     Low  Female         Single  Yes"
      ]
     },
     "execution_count": 100,
     "metadata": {},
     "output_type": "execute_result"
    }
   ],
   "source": [
    "data=data.drop('ID',axis=1)                      #id column is not required so i will drop it\n",
    "data.head()"
   ]
  },
  {
   "cell_type": "markdown",
   "id": "95303697",
   "metadata": {},
   "source": [
    "# Check shape"
   ]
  },
  {
   "cell_type": "code",
   "execution_count": 102,
   "id": "620ed682",
   "metadata": {},
   "outputs": [
    {
     "data": {
      "text/plain": [
       "(14, 5)"
      ]
     },
     "execution_count": 102,
     "metadata": {},
     "output_type": "execute_result"
    }
   ],
   "source": [
    "data.shape"
   ]
  },
  {
   "cell_type": "code",
   "execution_count": 103,
   "id": "c65c6048",
   "metadata": {},
   "outputs": [
    {
     "data": {
      "text/plain": [
       "Age               0\n",
       "Income            0\n",
       "Gender            0\n",
       "Marital Status    0\n",
       "Buys              0\n",
       "dtype: int64"
      ]
     },
     "execution_count": 103,
     "metadata": {},
     "output_type": "execute_result"
    }
   ],
   "source": [
    "data.isnull().sum() "
   ]
  },
  {
   "cell_type": "markdown",
   "id": "2dc45543",
   "metadata": {},
   "source": [
    "#### given dataset have not null value"
   ]
  },
  {
   "cell_type": "code",
   "execution_count": 104,
   "id": "c273094f",
   "metadata": {},
   "outputs": [
    {
     "data": {
      "text/html": [
       "<div>\n",
       "<style scoped>\n",
       "    .dataframe tbody tr th:only-of-type {\n",
       "        vertical-align: middle;\n",
       "    }\n",
       "\n",
       "    .dataframe tbody tr th {\n",
       "        vertical-align: top;\n",
       "    }\n",
       "\n",
       "    .dataframe thead th {\n",
       "        text-align: right;\n",
       "    }\n",
       "</style>\n",
       "<table border=\"1\" class=\"dataframe\">\n",
       "  <thead>\n",
       "    <tr style=\"text-align: right;\">\n",
       "      <th></th>\n",
       "      <th>Age</th>\n",
       "      <th>Income</th>\n",
       "      <th>Gender</th>\n",
       "      <th>Marital Status</th>\n",
       "      <th>Buys</th>\n",
       "    </tr>\n",
       "  </thead>\n",
       "  <tbody>\n",
       "    <tr>\n",
       "      <th>count</th>\n",
       "      <td>14</td>\n",
       "      <td>14</td>\n",
       "      <td>14</td>\n",
       "      <td>14</td>\n",
       "      <td>14</td>\n",
       "    </tr>\n",
       "    <tr>\n",
       "      <th>unique</th>\n",
       "      <td>3</td>\n",
       "      <td>3</td>\n",
       "      <td>2</td>\n",
       "      <td>2</td>\n",
       "      <td>2</td>\n",
       "    </tr>\n",
       "    <tr>\n",
       "      <th>top</th>\n",
       "      <td>&lt;21</td>\n",
       "      <td>Medium</td>\n",
       "      <td>Male</td>\n",
       "      <td>Single</td>\n",
       "      <td>Yes</td>\n",
       "    </tr>\n",
       "    <tr>\n",
       "      <th>freq</th>\n",
       "      <td>5</td>\n",
       "      <td>6</td>\n",
       "      <td>7</td>\n",
       "      <td>7</td>\n",
       "      <td>9</td>\n",
       "    </tr>\n",
       "  </tbody>\n",
       "</table>\n",
       "</div>"
      ],
      "text/plain": [
       "        Age  Income Gender Marital Status Buys\n",
       "count    14      14     14             14   14\n",
       "unique    3       3      2              2    2\n",
       "top     <21  Medium   Male         Single  Yes\n",
       "freq      5       6      7              7    9"
      ]
     },
     "execution_count": 104,
     "metadata": {},
     "output_type": "execute_result"
    }
   ],
   "source": [
    "data.describe()\n"
   ]
  },
  {
   "cell_type": "markdown",
   "id": "17ee8c62",
   "metadata": {},
   "source": [
    "### using describe function I found min value is 1 and max value is 14."
   ]
  },
  {
   "cell_type": "code",
   "execution_count": null,
   "id": "34e2286f",
   "metadata": {},
   "outputs": [],
   "source": []
  },
  {
   "cell_type": "markdown",
   "id": "6dca65c5",
   "metadata": {},
   "source": [
    "# Count Value from each column"
   ]
  },
  {
   "cell_type": "code",
   "execution_count": 105,
   "id": "4cbbcaa6",
   "metadata": {},
   "outputs": [
    {
     "data": {
      "text/plain": [
       "Medium    6\n",
       "High      4\n",
       "Low       4\n",
       "Name: Income, dtype: int64"
      ]
     },
     "execution_count": 105,
     "metadata": {},
     "output_type": "execute_result"
    }
   ],
   "source": [
    "data['Income'].value_counts()   "
   ]
  },
  {
   "cell_type": "code",
   "execution_count": 106,
   "id": "8b20ad3d",
   "metadata": {},
   "outputs": [
    {
     "data": {
      "text/plain": [
       "<21      5\n",
       ">35      5\n",
       "21-35    4\n",
       "Name: Age, dtype: int64"
      ]
     },
     "execution_count": 106,
     "metadata": {},
     "output_type": "execute_result"
    }
   ],
   "source": [
    "data['Age'].value_counts()     "
   ]
  },
  {
   "cell_type": "code",
   "execution_count": 107,
   "id": "4a761b4a",
   "metadata": {},
   "outputs": [
    {
     "data": {
      "text/plain": [
       "Male      7\n",
       "Female    7\n",
       "Name: Gender, dtype: int64"
      ]
     },
     "execution_count": 107,
     "metadata": {},
     "output_type": "execute_result"
    }
   ],
   "source": [
    "data['Gender'].value_counts()     "
   ]
  },
  {
   "cell_type": "code",
   "execution_count": 111,
   "id": "dd067530",
   "metadata": {},
   "outputs": [
    {
     "data": {
      "text/plain": [
       "Yes    9\n",
       "No     5\n",
       "Name: Buys, dtype: int64"
      ]
     },
     "execution_count": 111,
     "metadata": {},
     "output_type": "execute_result"
    }
   ],
   "source": [
    "data['Buys'].value_counts()   "
   ]
  },
  {
   "cell_type": "markdown",
   "id": "7e8f4d3e",
   "metadata": {},
   "source": [
    "# Countplot for each categorical variable\n"
   ]
  },
  {
   "cell_type": "code",
   "execution_count": 42,
   "id": "8c85eb5a",
   "metadata": {},
   "outputs": [
    {
     "name": "stderr",
     "output_type": "stream",
     "text": [
      "C:\\Users\\LEGION\\anaconda3\\lib\\site-packages\\seaborn\\_decorators.py:36: FutureWarning: Pass the following variable as a keyword arg: x. From version 0.12, the only valid positional argument will be `data`, and passing other arguments without an explicit keyword will result in an error or misinterpretation.\n",
      "  warnings.warn(\n"
     ]
    },
    {
     "data": {
      "text/plain": [
       "<AxesSubplot:xlabel='Income', ylabel='count'>"
      ]
     },
     "execution_count": 42,
     "metadata": {},
     "output_type": "execute_result"
    },
    {
     "data": {
      "image/png": "[encoded data removed]",
      "text/plain": [
       "<Figure size 360x360 with 1 Axes>"
      ]
     },
     "metadata": {
      "needs_background": "light"
     },
     "output_type": "display_data"
    }
   ],
   "source": [
    "plt.figure(figsize=(5,5))\n",
    "sns.countplot(dataset['Income'])"
   ]
  },
  {
   "cell_type": "code",
   "execution_count": 43,
   "id": "4aa1e4cc",
   "metadata": {},
   "outputs": [
    {
     "name": "stderr",
     "output_type": "stream",
     "text": [
      "C:\\Users\\LEGION\\anaconda3\\lib\\site-packages\\seaborn\\_decorators.py:36: FutureWarning: Pass the following variable as a keyword arg: x. From version 0.12, the only valid positional argument will be `data`, and passing other arguments without an explicit keyword will result in an error or misinterpretation.\n",
      "  warnings.warn(\n"
     ]
    },
    {
     "data": {
      "text/plain": [
       "<AxesSubplot:xlabel='Age', ylabel='count'>"
      ]
     },
     "execution_count": 43,
     "metadata": {},
     "output_type": "execute_result"
    },
    {
     "data": {
      "image/png": "[encoded data removed]",
      "text/plain": [
       "<Figure size 360x360 with 1 Axes>"
      ]
     },
     "metadata": {
      "needs_background": "light"
     },
     "output_type": "display_data"
    }
   ],
   "source": [
    "plt.figure(figsize=(5,5))\n",
    "sns.countplot(dataset['Age'])"
   ]
  },
  {
   "cell_type": "code",
   "execution_count": 44,
   "id": "317d726c",
   "metadata": {},
   "outputs": [
    {
     "name": "stderr",
     "output_type": "stream",
     "text": [
      "C:\\Users\\LEGION\\anaconda3\\lib\\site-packages\\seaborn\\_decorators.py:36: FutureWarning: Pass the following variable as a keyword arg: x. From version 0.12, the only valid positional argument will be `data`, and passing other arguments without an explicit keyword will result in an error or misinterpretation.\n",
      "  warnings.warn(\n"
     ]
    },
    {
     "data": {
      "text/plain": [
       "<AxesSubplot:xlabel='Gender', ylabel='count'>"
      ]
     },
     "execution_count": 44,
     "metadata": {},
     "output_type": "execute_result"
    },
    {
     "data": {
      "image/png": "[encoded data removed]",
      "text/plain": [
       "<Figure size 360x360 with 1 Axes>"
      ]
     },
     "metadata": {
      "needs_background": "light"
     },
     "output_type": "display_data"
    }
   ],
   "source": [
    "plt.figure(figsize=(5,5))\n",
    "sns.countplot(dataset['Gender'])"
   ]
  },
  {
   "cell_type": "code",
   "execution_count": 112,
   "id": "a468d609",
   "metadata": {},
   "outputs": [
    {
     "name": "stderr",
     "output_type": "stream",
     "text": [
      "C:\\Users\\LEGION\\anaconda3\\lib\\site-packages\\seaborn\\_decorators.py:36: FutureWarning: Pass the following variable as a keyword arg: x. From version 0.12, the only valid positional argument will be `data`, and passing other arguments without an explicit keyword will result in an error or misinterpretation.\n",
      "  warnings.warn(\n"
     ]
    },
    {
     "data": {
      "text/plain": [
       "<AxesSubplot:xlabel='Buys', ylabel='count'>"
      ]
     },
     "execution_count": 112,
     "metadata": {},
     "output_type": "execute_result"
    },
    {
     "data": {
      "image/png": "[encoded data removed]",
      "text/plain": [
       "<Figure size 360x360 with 1 Axes>"
      ]
     },
     "metadata": {
      "needs_background": "light"
     },
     "output_type": "display_data"
    }
   ],
   "source": [
    "plt.figure(figsize=(5,5)) #check balance\n",
    "sns.countplot(dataset['Buys'])"
   ]
  },
  {
   "cell_type": "markdown",
   "id": "9571034c",
   "metadata": {},
   "source": [
    "# Preprocessing"
   ]
  },
  {
   "cell_type": "code",
   "execution_count": 113,
   "id": "bdae2f69",
   "metadata": {},
   "outputs": [],
   "source": [
    "# convert categorical data into numerical data\n",
    "\n",
    "\n",
    "from sklearn.preprocessing import LabelEncoder\n",
    "label=LabelEncoder()\n",
    "data=data.apply(label.fit_transform)"
   ]
  },
  {
   "cell_type": "code",
   "execution_count": 114,
   "id": "1b7e65ba",
   "metadata": {},
   "outputs": [
    {
     "name": "stdout",
     "output_type": "stream",
     "text": [
      "    Age  Income  Gender  Marital Status  Buys\n",
      "0     1       0       1               1     0\n",
      "1     1       0       1               0     0\n",
      "2     0       0       1               1     1\n",
      "3     2       2       1               1     1\n",
      "4     2       1       0               1     1\n",
      "5     2       1       0               0     0\n",
      "6     0       1       0               0     1\n",
      "7     1       2       1               1     0\n",
      "8     1       1       0               0     1\n",
      "9     2       2       0               1     1\n",
      "10    1       2       0               0     1\n",
      "11    0       2       1               0     1\n",
      "12    0       0       0               1     1\n",
      "13    2       2       1               0     0\n"
     ]
    }
   ],
   "source": [
    "print(data)"
   ]
  },
  {
   "cell_type": "markdown",
   "id": "1c64becd",
   "metadata": {},
   "source": [
    "# Independent and dependent variables"
   ]
  },
  {
   "cell_type": "code",
   "execution_count": 115,
   "id": "18c23519",
   "metadata": {},
   "outputs": [],
   "source": [
    "x=data.drop('Buys',axis=1)\n",
    "y=data['Buys']"
   ]
  },
  {
   "cell_type": "markdown",
   "id": "7a10c437",
   "metadata": {},
   "source": [
    "# split data into train and test data\n"
   ]
  },
  {
   "cell_type": "code",
   "execution_count": 116,
   "id": "a08b1b65",
   "metadata": {},
   "outputs": [
    {
     "name": "stdout",
     "output_type": "stream",
     "text": [
      "(10, 4)\n",
      "(4, 4)\n",
      "(10,)\n",
      "(4,)\n"
     ]
    }
   ],
   "source": [
    "from sklearn.model_selection import train_test_split\n",
    "x_train,x_test,y_train,y_test=train_test_split(x,y,test_size=0.25,random_state=12)\n",
    "print(x_train.shape)\n",
    "print(x_test.shape)\n",
    "print(y_train.shape)\n",
    "print(y_test.shape)"
   ]
  },
  {
   "cell_type": "code",
   "execution_count": null,
   "id": "b087e0af",
   "metadata": {},
   "outputs": [],
   "source": []
  },
  {
   "cell_type": "markdown",
   "id": "30a856da",
   "metadata": {},
   "source": [
    "# Building Decision tree model"
   ]
  },
  {
   "cell_type": "code",
   "execution_count": 117,
   "id": "5a631a06",
   "metadata": {},
   "outputs": [
    {
     "data": {
      "text/plain": [
       "DecisionTreeClassifier(criterion='entropy', random_state=12)"
      ]
     },
     "execution_count": 117,
     "metadata": {},
     "output_type": "execute_result"
    }
   ],
   "source": [
    "#build decision tree model\n",
    "\n",
    "\n",
    "from sklearn.tree import DecisionTreeClassifier\n",
    "classifier=DecisionTreeClassifier(criterion='entropy',random_state=12)\n",
    "classifier.fit(x,y)"
   ]
  },
  {
   "cell_type": "code",
   "execution_count": 118,
   "id": "043afe1a",
   "metadata": {},
   "outputs": [],
   "source": [
    "y_pred=classifier.predict(x_test)"
   ]
  },
  {
   "cell_type": "code",
   "execution_count": 119,
   "id": "f524066d",
   "metadata": {},
   "outputs": [
    {
     "data": {
      "text/plain": [
       "array([0, 1, 1, 0])"
      ]
     },
     "execution_count": 119,
     "metadata": {},
     "output_type": "execute_result"
    }
   ],
   "source": [
    "y_pred"
   ]
  },
  {
   "cell_type": "markdown",
   "id": "4dc66ded",
   "metadata": {},
   "source": [
    "# Prediction for given values of test data"
   ]
  },
  {
   "cell_type": "code",
   "execution_count": 121,
   "id": "5a030cff",
   "metadata": {},
   "outputs": [],
   "source": [
    "x_test=np.array([1,1,0,0])"
   ]
  },
  {
   "cell_type": "code",
   "execution_count": 122,
   "id": "f0b95d2c",
   "metadata": {},
   "outputs": [
    {
     "data": {
      "text/plain": [
       "array([[2, 0],\n",
       "       [0, 2]], dtype=int64)"
      ]
     },
     "execution_count": 122,
     "metadata": {},
     "output_type": "execute_result"
    }
   ],
   "source": [
    "#Confusion Matrix\n",
    "from sklearn.metrics import confusion_matrix,accuracy_score\n",
    "con_m=confusion_matrix(y_test,y_pred)\n",
    "con_m"
   ]
  },
  {
   "cell_type": "code",
   "execution_count": 124,
   "id": "d02e351a",
   "metadata": {},
   "outputs": [
    {
     "data": {
      "text/plain": [
       "1.0"
      ]
     },
     "execution_count": 124,
     "metadata": {},
     "output_type": "execute_result"
    }
   ],
   "source": [
    " accuracy_score(y_test,y_pred)"
   ]
  },
  {
   "cell_type": "code",
   "execution_count": 125,
   "id": "d2225af7",
   "metadata": {},
   "outputs": [
    {
     "data": {
      "image/png": "[encoded data removed]",
      "text/plain": [
       "<Figure size 1152x864 with 1 Axes>"
      ]
     },
     "metadata": {
      "needs_background": "light"
     },
     "output_type": "display_data"
    }
   ],
   "source": [
    "from sklearn.tree import plot_tree\n",
    "\n",
    "import matplotlib.pyplot as plt\n",
    "fig = plt.figure(figsize=(16,12))\n",
    "a = plot_tree(classifier, feature_names=x.columns, fontsize=12, filled=True, \n",
    "              class_names=['No', 'yes'])"
   ]
  },
  {
   "cell_type": "code",
   "execution_count": null,
   "id": "26e20ccc",
   "metadata": {},
   "outputs": [],
   "source": []
  },
  {
   "cell_type": "code",
   "execution_count": null,
   "id": "4c1c2a26",
   "metadata": {},
   "outputs": [],
   "source": []
  },
  {
   "cell_type": "markdown",
   "id": "d76883fe",
   "metadata": {},
   "source": [
    "# Conclusion"
   ]
  },
  {
   "cell_type": "code",
   "execution_count": null,
   "id": "cb33c5ee",
   "metadata": {},
   "outputs": [],
   "source": [
    "hence Age is <21 , Income is 'Low ',Gender 'Female' ,MaritalStatus is  'Married' Buys column should be 'Yes'\n",
    "and\n",
    "hence Age is 21-35 , Income is 'Low ',Gender 'Female' ,MaritalStatus is  'Married' Buys column should be 'Yes'\n",
    "\n",
    "\n",
    "conclusion matrix and accuracy score we can say that there all obseravtions are correctly predicted.\n",
    "But there might be possibility of overfitting due to some imbalace data\n"
   ]
  }
 ],
 "metadata": {
  "kernelspec": {
   "display_name": "Python 3 (ipykernel)",
   "language": "python",
   "name": "python3"
  },
  "language_info": {
   "codemirror_mode": {
    "name": "ipython",
    "version": 3
   },
   "file_extension": ".py",
   "mimetype": "text/x-python",
   "name": "python",
   "nbconvert_exporter": "python",
   "pygments_lexer": "ipython3",
   "version": "3.9.7"
  }
 },
 "nbformat": 4,
 "nbformat_minor": 5
}
